{
 "cells": [
  {
   "cell_type": "markdown",
   "metadata": {},
   "source": [
    "### Sentiment Analysis\n",
    "I had initially run the entire code in my other laptop, where it ran fast without any issues. \n",
    "I couldn't run it completely in my current one as it kept hanging and giving me errors that didn't happen before.\n",
    "I hope it runs."
   ]
  },
  {
   "cell_type": "code",
   "execution_count": 2,
   "metadata": {
    "collapsed": false
   },
   "outputs": [],
   "source": [
    "import nltk\n",
    "from __future__ import division\n",
    "import urllib\n",
    "import csv\n",
    "import codecs\n",
    "from string import punctuation"
   ]
  },
  {
   "cell_type": "code",
   "execution_count": 3,
   "metadata": {
    "collapsed": false
   },
   "outputs": [],
   "source": [
    "with open('A_game_of_thrones.txt',encoding = \"utf-8\") as f:\n",
    "    GotString1 = f.read()\n",
    "lines_list1 = GotString1.split('\\n')\n",
    "pos_sent = open(\"positive.txt\").read()\n",
    "positive_words=pos_sent.split('\\n')\n",
    "positive_counts=[]\n",
    "\n",
    "neg_sent = open('negative.txt').read()\n",
    "negative_words=neg_sent.split('\\n')\n",
    "negative_counts=[]\n",
    "\n",
    "\n",
    "for a in lines_list1:\n",
    "    positive_counter=0\n",
    "    negative_counter=0\n",
    "    \n",
    "    a_processed=a.lower()\n",
    "    \n",
    "    \n",
    "    for p in list(punctuation):\n",
    "        a_processed=a_processed.replace(p,'')\n",
    "\n",
    "    words=a_processed.split(' ')\n",
    "    word_count=len(words)\n",
    "    for word in words:\n",
    "        if word in positive_words:\n",
    "            positive_counter=positive_counter+1\n",
    "        elif word in negative_words:\n",
    "            negative_counter=negative_counter+1\n",
    "        \n",
    "    positive_counts.append(positive_counter/word_count)\n",
    "    negative_counts.append(negative_counter/word_count)\n",
    "\n",
    "output=zip(lines_list1,positive_counts,negative_counts)\n",
    "\n",
    "writer = csv.writer(open('Got1_sentiment.csv', 'w'))\n",
    "writer.writerows(output)"
   ]
  },
  {
   "cell_type": "code",
   "execution_count": 4,
   "metadata": {
    "collapsed": false,
    "scrolled": true
   },
   "outputs": [
    {
     "data": {
      "text/plain": [
       "<matplotlib.text.Text at 0x1189c22b0>"
      ]
     },
     "execution_count": 4,
     "metadata": {},
     "output_type": "execute_result"
    },
    {
     "data": {
      "image/png": "[encoded data removed]",
      "text/plain": [
       "<matplotlib.figure.Figure at 0x118e4a128>"
      ]
     },
     "metadata": {},
     "output_type": "display_data"
    }
   ],
   "source": [
    "import pandas as pd\n",
    "import numpy as np\n",
    "import matplotlib.pyplot as plt\n",
    "%matplotlib inline\n",
    "import codecs\n",
    "with codecs.open('Got1_sentiment.csv', \"r\",encoding='utf-8', errors='ignore') as fdata:\n",
    "    df1 = pd.read_csv(fdata)\n",
    "df1 = df1.fillna(0)\n",
    "Positive1 = list(df1[\"0.0\"])\n",
    "Negative1 = list(df1[\"0.0.1\"])\n",
    "\n",
    "plt.figure(1)\n",
    "plt.subplot(211)\n",
    "plt.plot(Positive1)\n",
    "plt.title('Book1 A Game of Thrones : Positive & negative sentiments')\n",
    "plt.subplot(212)\n",
    "plt.plot(Negative1)\n",
    "\n",
    "\n",
    "plt.grid(True)\n",
    "plt.xlabel('No.of Words')\n",
    "plt.ylabel('Probability')"
   ]
  },
  {
   "cell_type": "code",
   "execution_count": 1,
   "metadata": {
    "collapsed": false
   },
   "outputs": [
    {
     "ename": "NameError",
     "evalue": "name 'codecs' is not defined",
     "output_type": "error",
     "traceback": [
      "\u001b[0;31m---------------------------------------------------------------------------\u001b[0m",
      "\u001b[0;31mNameError\u001b[0m                                 Traceback (most recent call last)",
      "\u001b[0;32m<ipython-input-1-71b501ba5377>\u001b[0m in \u001b[0;36m<module>\u001b[0;34m()\u001b[0m\n\u001b[0;32m----> 1\u001b[0;31m \u001b[0;32mwith\u001b[0m \u001b[0mcodecs\u001b[0m\u001b[0;34m.\u001b[0m\u001b[0mopen\u001b[0m\u001b[0;34m(\u001b[0m\u001b[0;34m'A-Clash-of-Kings.txt'\u001b[0m\u001b[0;34m,\u001b[0m\u001b[0mencoding\u001b[0m \u001b[0;34m=\u001b[0m \u001b[0;34m\"utf-8\"\u001b[0m\u001b[0;34m,\u001b[0m\u001b[0merrors\u001b[0m \u001b[0;34m=\u001b[0m \u001b[0;34m\"ignore\"\u001b[0m\u001b[0;34m)\u001b[0m \u001b[0;32mas\u001b[0m \u001b[0mf\u001b[0m\u001b[0;34m:\u001b[0m\u001b[0;34m\u001b[0m\u001b[0m\n\u001b[0m\u001b[1;32m      2\u001b[0m     \u001b[0mGotString2\u001b[0m \u001b[0;34m=\u001b[0m \u001b[0mf\u001b[0m\u001b[0;34m.\u001b[0m\u001b[0mread\u001b[0m\u001b[0;34m(\u001b[0m\u001b[0;34m)\u001b[0m\u001b[0;34m\u001b[0m\u001b[0m\n\u001b[1;32m      3\u001b[0m \u001b[0mlines_list2\u001b[0m \u001b[0;34m=\u001b[0m \u001b[0mGotString2\u001b[0m\u001b[0;34m.\u001b[0m\u001b[0msplit\u001b[0m\u001b[0;34m(\u001b[0m\u001b[0;34m'\\n'\u001b[0m\u001b[0;34m)\u001b[0m\u001b[0;34m\u001b[0m\u001b[0m\n\u001b[1;32m      4\u001b[0m \u001b[0mpos_sent\u001b[0m \u001b[0;34m=\u001b[0m \u001b[0mopen\u001b[0m\u001b[0;34m(\u001b[0m\u001b[0;34m\"positive.txt\"\u001b[0m\u001b[0;34m)\u001b[0m\u001b[0;34m.\u001b[0m\u001b[0mread\u001b[0m\u001b[0;34m(\u001b[0m\u001b[0;34m)\u001b[0m\u001b[0;34m\u001b[0m\u001b[0m\n\u001b[1;32m      5\u001b[0m \u001b[0mpositive_words\u001b[0m\u001b[0;34m=\u001b[0m\u001b[0mpos_sent\u001b[0m\u001b[0;34m.\u001b[0m\u001b[0msplit\u001b[0m\u001b[0;34m(\u001b[0m\u001b[0;34m'\\n'\u001b[0m\u001b[0;34m)\u001b[0m\u001b[0;34m\u001b[0m\u001b[0m\n",
      "\u001b[0;31mNameError\u001b[0m: name 'codecs' is not defined"
     ]
    }
   ],
   "source": [
    "with codecs.open('A-Clash-of-Kings.txt',encoding = \"utf-8\",errors = \"ignore\") as f:\n",
    "    GotString2 = f.read()\n",
    "lines_list2 = GotString2.split('\\n')\n",
    "pos_sent = open(\"positive.txt\").read()\n",
    "positive_words=pos_sent.split('\\n')\n",
    "positive_counts=[]\n",
    "\n",
    "neg_sent = open('negative.txt').read()\n",
    "negative_words=neg_sent.split('\\n')\n",
    "negative_counts=[]\n",
    "\n",
    "\n",
    "for a in lines_list2:\n",
    "    positive_counter=0\n",
    "    negative_counter=0\n",
    "    \n",
    "    a_processed=a.lower()\n",
    "    \n",
    "    \n",
    "    for p in list(punctuation):\n",
    "        a_processed=a_processed.replace(p,'')\n",
    "\n",
    "    words=a_processed.split(' ')\n",
    "    word_count=len(words)\n",
    "    for word in words:\n",
    "        if word in positive_words:\n",
    "            positive_counter=positive_counter+1\n",
    "        elif word in negative_words:\n",
    "            negative_counter=negative_counter+1\n",
    "        \n",
    "    positive_counts.append(positive_counter/word_count)\n",
    "    negative_counts.append(negative_counter/word_count)\n",
    "\n",
    "print(len(positive_counts))\n",
    "\n",
    "output=zip(lines_list2,positive_counts,negative_counts)\n",
    "\n",
    "writer = csv.writer(open('Got2_sentiment.csv', 'w'))\n",
    "writer.writerows(output)"
   ]
  },
  {
   "cell_type": "code",
   "execution_count": 8,
   "metadata": {
    "collapsed": false
   },
   "outputs": [
    {
     "data": {
      "text/plain": [
       "<matplotlib.text.Text at 0x11886cc88>"
      ]
     },
     "execution_count": 8,
     "metadata": {},
     "output_type": "execute_result"
    },
    {
     "data": {
      "image/png": "[encoded data removed]",
      "text/plain": [
       "<matplotlib.figure.Figure at 0x1149f16a0>"
      ]
     },
     "metadata": {},
     "output_type": "display_data"
    }
   ],
   "source": [
    "\n",
    "with codecs.open('Got2_sentiment.csv', \"r\",encoding='utf-8', errors='ignore') as fdata:\n",
    "    df2 = pd.read_csv(fdata)\n",
    "df2 = df2.fillna(0)\n",
    "Positive2 = list(df2[\"0.0\"])\n",
    "Negative2 = list(df2[\"0.0.1\"])\n",
    "\n",
    "plt.figure(1)\n",
    "plt.subplot(211)\n",
    "plt.plot(Positive2)\n",
    "plt.title('Book2 A Clash of Kings: Positive & negative sentiments')\n",
    "plt.subplot(212)\n",
    "plt.plot(Negative2)\n",
    "\n",
    "\n",
    "plt.grid(True)\n",
    "plt.xlabel('No.of Words')\n",
    "plt.ylabel('Probability')"
   ]
  },
  {
   "cell_type": "code",
   "execution_count": 11,
   "metadata": {
    "collapsed": false
   },
   "outputs": [
    {
     "name": "stdout",
     "output_type": "stream",
     "text": [
      "29451\n"
     ]
    }
   ],
   "source": [
    "with open('A-Storm-of-Swords.txt',encoding = \"utf-8\") as f:\n",
    "    GotString3 = f.read()\n",
    "lines_list3 = GotString3.split('\\n')\n",
    "pos_sent = open(\"positive.txt\").read()\n",
    "positive_words=pos_sent.split('\\n')\n",
    "positive_counts=[]\n",
    "\n",
    "neg_sent = open('negative.txt').read()\n",
    "negative_words=neg_sent.split('\\n')\n",
    "negative_counts=[]\n",
    "\n",
    "\n",
    "for a in lines_list3:\n",
    "    positive_counter=0\n",
    "    negative_counter=0\n",
    "    \n",
    "    a_processed=a.lower()\n",
    "    \n",
    "    \n",
    "    for p in list(punctuation):\n",
    "        a_processed=a_processed.replace(p,'')\n",
    "\n",
    "    words=a_processed.split(' ')\n",
    "    word_count=len(words)\n",
    "    for word in words:\n",
    "        if word in positive_words:\n",
    "            positive_counter=positive_counter+1\n",
    "        elif word in negative_words:\n",
    "            negative_counter=negative_counter+1\n",
    "        \n",
    "    positive_counts.append(positive_counter/word_count)\n",
    "    negative_counts.append(negative_counter/word_count)\n",
    "\n",
    "print(len(positive_counts))\n",
    "\n",
    "output=zip(lines_list3,positive_counts,negative_counts)\n",
    "\n",
    "writer = csv.writer(open('Got3_sentiment.csv', 'w'))\n",
    "writer.writerows(output)"
   ]
  },
  {
   "cell_type": "code",
   "execution_count": 10,
   "metadata": {
    "collapsed": false
   },
   "outputs": [
    {
     "ename": "FileNotFoundError",
     "evalue": "[Errno 2] No such file or directory: 'Got3_sentiment.csv'",
     "output_type": "error",
     "traceback": [
      "\u001b[0;31m---------------------------------------------------------------------------\u001b[0m",
      "\u001b[0;31mFileNotFoundError\u001b[0m                         Traceback (most recent call last)",
      "\u001b[0;32m<ipython-input-10-05b9884ce829>\u001b[0m in \u001b[0;36m<module>\u001b[0;34m()\u001b[0m\n\u001b[0;32m----> 1\u001b[0;31m \u001b[0;32mwith\u001b[0m \u001b[0mcodecs\u001b[0m\u001b[0;34m.\u001b[0m\u001b[0mopen\u001b[0m\u001b[0;34m(\u001b[0m\u001b[0;34m'Got3_sentiment.csv'\u001b[0m\u001b[0;34m,\u001b[0m \u001b[0;34m\"r\"\u001b[0m\u001b[0;34m,\u001b[0m\u001b[0mencoding\u001b[0m\u001b[0;34m=\u001b[0m\u001b[0;34m'utf-8'\u001b[0m\u001b[0;34m,\u001b[0m \u001b[0merrors\u001b[0m\u001b[0;34m=\u001b[0m\u001b[0;34m'ignore'\u001b[0m\u001b[0;34m)\u001b[0m \u001b[0;32mas\u001b[0m \u001b[0mfdata\u001b[0m\u001b[0;34m:\u001b[0m\u001b[0;34m\u001b[0m\u001b[0m\n\u001b[0m\u001b[1;32m      2\u001b[0m     \u001b[0mdf3\u001b[0m \u001b[0;34m=\u001b[0m \u001b[0mpd\u001b[0m\u001b[0;34m.\u001b[0m\u001b[0mread_csv\u001b[0m\u001b[0;34m(\u001b[0m\u001b[0mfdata\u001b[0m\u001b[0;34m)\u001b[0m\u001b[0;34m\u001b[0m\u001b[0m\n\u001b[1;32m      3\u001b[0m \u001b[0mdf3\u001b[0m \u001b[0;34m=\u001b[0m \u001b[0mdf3\u001b[0m\u001b[0;34m.\u001b[0m\u001b[0mfillna\u001b[0m\u001b[0;34m(\u001b[0m\u001b[0;36m0\u001b[0m\u001b[0;34m)\u001b[0m\u001b[0;34m\u001b[0m\u001b[0m\n\u001b[1;32m      4\u001b[0m \u001b[0mdf3\u001b[0m\u001b[0;34m.\u001b[0m\u001b[0mhead\u001b[0m\u001b[0;34m(\u001b[0m\u001b[0;34m)\u001b[0m\u001b[0;34m\u001b[0m\u001b[0m\n",
      "\u001b[0;32m/Users/mittu/anaconda3/lib/python3.6/codecs.py\u001b[0m in \u001b[0;36mopen\u001b[0;34m(filename, mode, encoding, errors, buffering)\u001b[0m\n\u001b[1;32m    893\u001b[0m         \u001b[0;31m# Force opening of the file in binary mode\u001b[0m\u001b[0;34m\u001b[0m\u001b[0;34m\u001b[0m\u001b[0m\n\u001b[1;32m    894\u001b[0m         \u001b[0mmode\u001b[0m \u001b[0;34m=\u001b[0m \u001b[0mmode\u001b[0m \u001b[0;34m+\u001b[0m \u001b[0;34m'b'\u001b[0m\u001b[0;34m\u001b[0m\u001b[0m\n\u001b[0;32m--> 895\u001b[0;31m     \u001b[0mfile\u001b[0m \u001b[0;34m=\u001b[0m \u001b[0mbuiltins\u001b[0m\u001b[0;34m.\u001b[0m\u001b[0mopen\u001b[0m\u001b[0;34m(\u001b[0m\u001b[0mfilename\u001b[0m\u001b[0;34m,\u001b[0m \u001b[0mmode\u001b[0m\u001b[0;34m,\u001b[0m \u001b[0mbuffering\u001b[0m\u001b[0;34m)\u001b[0m\u001b[0;34m\u001b[0m\u001b[0m\n\u001b[0m\u001b[1;32m    896\u001b[0m     \u001b[0;32mif\u001b[0m \u001b[0mencoding\u001b[0m \u001b[0;32mis\u001b[0m \u001b[0;32mNone\u001b[0m\u001b[0;34m:\u001b[0m\u001b[0;34m\u001b[0m\u001b[0m\n\u001b[1;32m    897\u001b[0m         \u001b[0;32mreturn\u001b[0m \u001b[0mfile\u001b[0m\u001b[0;34m\u001b[0m\u001b[0m\n",
      "\u001b[0;31mFileNotFoundError\u001b[0m: [Errno 2] No such file or directory: 'Got3_sentiment.csv'"
     ]
    }
   ],
   "source": [
    "with codecs.open('Got3_sentiment.csv', \"r\",encoding='utf-8', errors='ignore') as fdata:\n",
    "    df3 = pd.read_csv(fdata)\n",
    "df3 = df3.fillna(0)\n",
    "Positive3 = list(df3[\"0.0\"])\n",
    "Negative3 = list(df3[\"0.0.1\"])\n",
    "\n",
    "plt.figure(1)\n",
    "plt.subplot(211)\n",
    "plt.plot(Positive3)\n",
    "plt.title('Book2 A Clash of Kings: Positive & negative sentiments')\n",
    "plt.subplot(212)\n",
    "plt.plot(Negative2)\n",
    "\n",
    "\n",
    "plt.grid(True)\n",
    "plt.xlabel('No.of Words')\n",
    "plt.ylabel('Probability')"
   ]
  },
  {
   "cell_type": "code",
   "execution_count": null,
   "metadata": {
    "collapsed": false
   },
   "outputs": [],
   "source": [
    "with open('A-Feast-for-Crows.txt',encoding = \"utf-8\") as f:\n",
    "    GotString4 = f.read()\n",
    "lines_list4 = GotString4.split('\\n')\n",
    "pos_sent = open(\"positive.txt\").read()\n",
    "positive_words=pos_sent.split('\\n')\n",
    "positive_counts=[]\n",
    "\n",
    "neg_sent = open('negative.txt').read()\n",
    "negative_words=neg_sent.split('\\n')\n",
    "negative_counts=[]\n",
    "\n",
    "\n",
    "for a in lines_list4:\n",
    "    positive_counter=0\n",
    "    negative_counter=0\n",
    "    \n",
    "    a_processed=a.lower()\n",
    "    \n",
    "    \n",
    "    for p in list(punctuation):\n",
    "        a_processed=a_processed.replace(p,'')\n",
    "\n",
    "    words=a_processed.split(' ')\n",
    "    word_count=len(words)\n",
    "    for word in words:\n",
    "        if word in positive_words:\n",
    "            positive_counter=positive_counter+1\n",
    "        elif word in negative_words:\n",
    "            negative_counter=negative_counter+1\n",
    "        \n",
    "    positive_counts.append(positive_counter/word_count)\n",
    "    negative_counts.append(negative_counter/word_count)\n",
    "\n",
    "print(len(positive_counts))\n",
    "\n",
    "output=zip(lines_list4,positive_counts,negative_counts)\n",
    "\n",
    "writer = csv.writer(open('Got4_sentiment.csv', 'w'))\n",
    "writer.writerows(output)"
   ]
  },
  {
   "cell_type": "code",
   "execution_count": null,
   "metadata": {
    "collapsed": false
   },
   "outputs": [],
   "source": [
    "\n",
    "with codecs.open('Got4_sentiment.csv', \"r\",encoding='utf-8', errors='ignore') as fdata:\n",
    "    df4 = pd.read_csv(fdata)\n",
    "df4 = df4.fillna()\n",
    "df4.head()"
   ]
  },
  {
   "cell_type": "code",
   "execution_count": null,
   "metadata": {
    "collapsed": false
   },
   "outputs": [],
   "source": [
    "Positive4 = list(df4[\"0.0\"])\n",
    "Negative4 = list(df4[\"0.0.1\"])\n",
    "\n",
    "plt.figure(1)\n",
    "plt.subplot(211)\n",
    "plt.plot(Positive4)\n",
    "plt.title('Book4 A Feast for Crows : Positive & negative sentiments')\n",
    "plt.subplot(212)\n",
    "plt.plot(Negative4)\n",
    "\n",
    "\n",
    "plt.grid(True)\n",
    "plt.xlabel('No.of Words')\n",
    "plt.ylabel('Probability')"
   ]
  },
  {
   "cell_type": "code",
   "execution_count": null,
   "metadata": {
    "collapsed": false
   },
   "outputs": [],
   "source": [
    "\n",
    "\n",
    "with open('A_Dance_With_Dragons.txt',encoding = \"utf-8\") as f:\n",
    "    GotString5 = f.read()\n",
    "lines_list5 = GotString5.split('\\n')\n",
    "pos_sent = open(\"positive.txt\").read()\n",
    "positive_words=pos_sent.split('\\n')\n",
    "positive_counts=[]\n",
    "\n",
    "neg_sent = open('negative.txt').read()\n",
    "negative_words=neg_sent.split('\\n')\n",
    "negative_counts=[]\n",
    "\n",
    "\n",
    "for a in lines_list5:\n",
    "    positive_counter=0\n",
    "    negative_counter=0\n",
    "    \n",
    "    a_processed=a.lower()\n",
    "    \n",
    "    \n",
    "    for p in list(punctuation):\n",
    "        a_processed=a_processed.replace(p,'')\n",
    "\n",
    "    words=a_processed.split(' ')\n",
    "    word_count=len(words)\n",
    "    for word in words:\n",
    "        if word in positive_words:\n",
    "            positive_counter=positive_counter+1\n",
    "        elif word in negative_words:\n",
    "            negative_counter=negative_counter+1\n",
    "        \n",
    "    positive_counts.append(positive_counter/word_count)\n",
    "    negative_counts.append(negative_counter/word_count)\n",
    "\n",
    "print(len(positive_counts))\n",
    "\n",
    "output=zip(lines_list5,positive_counts,negative_counts)\n",
    "\n",
    "writer = csv.writer(open('Got5_sentiment.csv', 'w'))\n",
    "writer.writerows(output)"
   ]
  },
  {
   "cell_type": "code",
   "execution_count": null,
   "metadata": {
    "collapsed": false
   },
   "outputs": [],
   "source": [
    "\n",
    "with codecs.open('Got5_sentiment.csv', \"r\",encoding='utf-8', errors='ignore') as fdata:\n",
    "    df5 = pd.read_csv(fdata)\n",
    "df5.head()"
   ]
  },
  {
   "cell_type": "code",
   "execution_count": null,
   "metadata": {
    "collapsed": false
   },
   "outputs": [],
   "source": [
    "Positive5 = list(df5[\"0.0\"])\n",
    "Negative5 = list(df5[\"0.0.1\"])\n",
    "\n",
    "plt.figure(1)\n",
    "plt.subplot(211)\n",
    "plt.plot(Positive5)\n",
    "plt.title('Book5 A Dance with Dragons : Positive & negative sentiments')\n",
    "plt.subplot(212)\n",
    "plt.plot(Negative5)\n",
    "\n",
    "\n",
    "plt.grid(True)\n",
    "plt.xlabel('No.of Words')\n",
    "plt.ylabel('Probability')"
   ]
  },
  {
   "cell_type": "code",
   "execution_count": null,
   "metadata": {
    "collapsed": true
   },
   "outputs": [],
   "source": []
  }
 ],
 "metadata": {
  "anaconda-cloud": {},
  "kernelspec": {
   "display_name": "Python 3",
   "language": "python",
   "name": "python3"
  },
  "language_info": {
   "codemirror_mode": {
    "name": "ipython",
    "version": 3
   },
   "file_extension": ".py",
   "mimetype": "text/x-python",
   "name": "python",
   "nbconvert_exporter": "python",
   "pygments_lexer": "ipython3",
   "version": "3.6.0"
  }
 },
 "nbformat": 4,
 "nbformat_minor": 1
}
