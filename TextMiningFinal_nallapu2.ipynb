{
 "cells": [
  {
   "cell_type": "markdown",
   "metadata": {},
   "source": [
    "### Professor's feedback"
   ]
  },
  {
   "cell_type": "markdown",
   "metadata": {},
   "source": [
    "Nandana, great idea for your final project. You note one particular reason that your text will be interesting: \n",
    "    the revolving first-person narrators, and the nice chunking of the books by narrator via chapters. \n",
    "    There are both inter- and intra- effects to look at: how does a character change over time, \n",
    "    and how do styles change between characters. Some of the latter requires understanding character voice and motivation, but it also depends on the strength of the author in writing in different characters' voices.\n",
    "\n",
    "Moving forward, it would be nice to think more concretely about the questions that you hope to ask and \n",
    "the types of analyses that can grasp at those questions. When you are looking at other text mining for research,\n",
    "look at the area of 'stylometrics', which concerns itself with understanding style in literature."
   ]
  },
  {
   "cell_type": "markdown",
   "metadata": {},
   "source": [
    "-I will use topic modeling to see what they talked each episode, and try to find is there any topics comes a lot?\n",
    "\n",
    "-Term frequencies and concordances.\n",
    "\n",
    "-TF-IDF over scripts\n",
    "\n",
    "-Sentiment mining, classification (Naïve bayes classifier and Multinominal Logistic Regression.) etc.\n",
    "\n",
    "-Try to find emotion change through seasons. I wanted to see the character , \n",
    "I could like to see how each character grown, and their relationship changed. "
   ]
  },
  {
   "cell_type": "markdown",
   "metadata": {},
   "source": [
    "#### Book 1 - A game of Thrones"
   ]
  },
  {
   "cell_type": "code",
   "execution_count": 8,
   "metadata": {
    "collapsed": false,
    "scrolled": true
   },
   "outputs": [
    {
     "data": {
      "image/png": "[encoded data removed]",
      "text/plain": [
       "<matplotlib.figure.Figure at 0x10f7f44e0>"
      ]
     },
     "metadata": {},
     "output_type": "display_data"
    }
   ],
   "source": [
    "\n",
    "with open(\"../data/A_game_of_thrones.txt\") as f:\n",
    "    Got1_String = f.read()\n",
    "    \n",
    "import nltk\n",
    "Got1_tokens = nltk.word_tokenize(Got1_String)\n",
    "cleaned_tokens = [word for word in Got1_tokens if word[0].isalpha()]\n",
    "folded_tokens = [word.lower() for word in cleaned_tokens]\n",
    "stopwords = nltk.corpus.stopwords.words('english')\n",
    "my_stopwords = stopwords + ['could', 'would', 'upon', 'yet','king','lord','lady','maester','like','black','made','make',\n",
    "                            'thought','knight','ser','father','mother','brother','sister','bastard','man','men','boy',\n",
    "                            'away','come','came','well','took','still','saw','back','must','long','around','looked',\n",
    "                           'sword','head','eyes','hand','said','one','told','see','know','old','never','face','time',\n",
    "                           'us','say','gave','much','want','two','three','knew','look','take','even','queen','little',\n",
    "                           'think','left','went','first','another','enough','every','go','across','asked',\n",
    "                           'way','seemed','may','though','need','might','good','many','water','get','night','found',\n",
    "                           'behind','right','turned','day','woman','great','let','tell','shall']\n",
    "Book1_words = [word for word in folded_tokens if word not in my_stopwords]\n",
    "Got1 = nltk.FreqDist(Book1_words)\n",
    "Got1\n",
    "%matplotlib inline\n",
    "Got1.plot(20)\n",
    "#my_stopwords"
   ]
  },
  {
   "cell_type": "code",
   "execution_count": null,
   "metadata": {
    "collapsed": true
   },
   "outputs": [],
   "source": [
    "with open(\"../data/A_game_of_thrones.txt\") as f:\n",
    "    Got1_String2 = f.read()\n",
    "    \n",
    "import nltk\n",
    "Got1_tokens2 = nltk.word_tokenize(Got1_String2)\n",
    "cleaned_tokens = [word for word in Got1_tokens2 if word[0].isalpha()]\n",
    "folded_tokens = [word.lower() for word in cleaned_tokens]\n",
    "stopwords = nltk.corpus.stopwords.words('english')\n",
    "my_stopwords2 = stopwords + ['could', 'would', 'upon', 'yet','king','lord','lady','maester','like','black','made','make',\n",
    "                            'thought','knight','ser','father','mother','brother','sister','bastard','man','men','boy',\n",
    "                            'away','come','came','well','took','still','saw','back','must','long','around','looked',\n",
    "                           'sword','head','eyes','hand','said','one','told','see','know','old','never','face','time',\n",
    "                           'us','say','gave','much','want','two','three','knew','look','take','even','queen','little',\n",
    "                           'think','left','went','first','another','enough','every','go','across','asked',\n",
    "                           'way','seemed','may','though','need','might','good','many','water','get','night','found',\n",
    "                           'behind','right','turned','day','woman','great','let','tell','shall','jon','ned','snow','tyrion',\n",
    "                           'dany','arya','theon','stannis']\n",
    "Book1_words2 = [word for word in folded_tokens if word not in my_stopwords2]\n",
    "Got1_2 = nltk.FreqDist(Book1_words2)\n",
    "Got1_2\n",
    "%matplotlib inline\n",
    "Got1_2.plot(20)\n",
    "#my_stopwords"
   ]
  },
  {
   "cell_type": "markdown",
   "metadata": {},
   "source": [
    "#### Book 2- A Clash of Kings"
   ]
  },
  {
   "cell_type": "code",
   "execution_count": 35,
   "metadata": {
    "collapsed": false
   },
   "outputs": [
    {
     "data": {
      "image/png": "[encoded data removed]",
      "text/plain": [
       "<matplotlib.figure.Figure at 0x11036bc88>"
      ]
     },
     "metadata": {},
     "output_type": "display_data"
    }
   ],
   "source": [
    "\n",
    "with open(\"../data/A-Clash-of-Kings.txt\") as g:\n",
    "    Got2_String = g.read()\n",
    "\n",
    "Got2_tokens = nltk.word_tokenize(Got2_String)\n",
    "cleaned_tokens_2 = [word for word in Got2_tokens if word[0].isalpha()]\n",
    "folded_tokens_2 = [word.lower() for word in cleaned_tokens_2]\n",
    "stopped_words_2 = [word for word in folded_tokens_2 if word not in my_stopwords]\n",
    "stopped_Got2 = nltk.FreqDist(stopped_words_2)\n",
    "\n",
    "stopped_Got2.plot(20)\n"
   ]
  },
  {
   "cell_type": "markdown",
   "metadata": {},
   "source": [
    "#### Book 3 - A Storm of Swords"
   ]
  },
  {
   "cell_type": "code",
   "execution_count": 36,
   "metadata": {
    "collapsed": false
   },
   "outputs": [
    {
     "data": {
      "image/png": "[encoded data removed]",
      "text/plain": [
       "<matplotlib.figure.Figure at 0x106d724a8>"
      ]
     },
     "metadata": {},
     "output_type": "display_data"
    }
   ],
   "source": [
    "with open(\"../data/A-Storm-of-Swords.txt\") as h:\n",
    "    Got3_String = h.read()\n",
    "\n",
    "Got3_tokens = nltk.word_tokenize(Got3_String)\n",
    "cleaned_tokens_3 = [word for word in Got3_tokens if word[0].isalpha()]\n",
    "folded_tokens_3 = [word.lower() for word in cleaned_tokens_3]\n",
    "stopped_words_3 = [word for word in folded_tokens_3 if word not in my_stopwords]\n",
    "stopped_Got3 = nltk.FreqDist(stopped_words_3)\n",
    "\n",
    "%matplotlib inline\n",
    "stopped_Got3.plot(25)\n"
   ]
  },
  {
   "cell_type": "markdown",
   "metadata": {},
   "source": [
    "#### Book 4 - A Feast for Crows"
   ]
  },
  {
   "cell_type": "code",
   "execution_count": 38,
   "metadata": {
    "collapsed": false
   },
   "outputs": [
    {
     "data": {
      "image/png": "[encoded data removed]",
      "text/plain": [
       "<matplotlib.figure.Figure at 0x110c1fc50>"
      ]
     },
     "metadata": {},
     "output_type": "display_data"
    }
   ],
   "source": [
    "\n",
    "with open(\"../data/A-Feast-for-Crows.txt\") as i:\n",
    "    Got4_String = i.read()\n",
    "\n",
    "Got4_tokens = nltk.word_tokenize(Got4_String)\n",
    "cleaned_tokens_4 = [word for word in Got4_tokens if word[0].isalpha()]\n",
    "folded_tokens_4 = [word.lower() for word in cleaned_tokens_4]\n",
    "stopped_words_4 = [word for word in folded_tokens_4 if word not in my_stopwords]\n",
    "stopped_Got4 = nltk.FreqDist(stopped_words_4)\n",
    "\n",
    "%matplotlib inline\n",
    "stopped_Got4.plot(25)"
   ]
  },
  {
   "cell_type": "markdown",
   "metadata": {},
   "source": [
    "#### Book5 - A Dance with Dragons"
   ]
  },
  {
   "cell_type": "code",
   "execution_count": 39,
   "metadata": {
    "collapsed": false
   },
   "outputs": [
    {
     "data": {
      "image/png": "[encoded data removed]",
      "text/plain": [
       "<matplotlib.figure.Figure at 0x11f572550>"
      ]
     },
     "metadata": {},
     "output_type": "display_data"
    }
   ],
   "source": [
    "with open(\"../data/A_Dance_With_Dragons.txt\") as j:\n",
    "    Got5_String = j.read()\n",
    "\n",
    "Got5_tokens = nltk.word_tokenize(Got5_String)\n",
    "cleaned_tokens_5 = [word for word in Got5_tokens if word[0].isalpha()]\n",
    "folded_tokens_5 = [word.lower() for word in cleaned_tokens_5]\n",
    "stopped_words_5 = [word for word in folded_tokens_5 if word not in my_stopwords]\n",
    "stopped_Got5 = nltk.FreqDist(stopped_words_5)\n",
    "\n",
    "%matplotlib inline\n",
    "stopped_Got5.plot(25)"
   ]
  },
  {
   "cell_type": "markdown",
   "metadata": {},
   "source": [
    "### 01. ARYA"
   ]
  },
  {
   "cell_type": "code",
   "execution_count": 89,
   "metadata": {
    "collapsed": false,
    "scrolled": true
   },
   "outputs": [
    {
     "name": "stdout",
     "output_type": "stream",
     "text": [
      "  arya    hot   girl  heard    red   dead gendry    pie  hound    day   hard    jon   feet  horse  blood   half  yoren bloody  great   find \n",
      "  1111    200    189    184    173    172    164    157    154    138    131    127    127    116    116    115    115    114    112    112 \n"
     ]
    }
   ],
   "source": [
    "import csv\n",
    "with open(\"../data/GOT/01_ARYA.txt\") as arya:\n",
    "    arya_String = arya.read()\n",
    "\n",
    "arya_tokens = nltk.word_tokenize(arya_String)\n",
    "cleaned_tokens = [word for word in arya_tokens if word[0].isalpha()]\n",
    "folded_tokens = [word.lower() for word in cleaned_tokens]\n",
    "stopped_words_arya = [word for word in folded_tokens if word not in my_stopwords]\n",
    "stopped_arya = nltk.FreqDist(stopped_words_arya)\n",
    "stopped_arya.tabulate(20)\n",
    "\n",
    "#stopped_Jon.plot(25)"
   ]
  },
  {
   "cell_type": "markdown",
   "metadata": {},
   "source": [
    "### 02. BRAN"
   ]
  },
  {
   "cell_type": "code",
   "execution_count": 90,
   "metadata": {
    "collapsed": false,
    "scrolled": true
   },
   "outputs": [
    {
     "name": "stdout",
     "output_type": "stream",
     "text": [
      "      bran      hodor       robb      meera      luwin     summer winterfell       dead       wolf      trees      jojen       grey      white     tyrion       snow        day      great       osha     rickon    beneath \n",
      "       782        188        176        120        119        108         99         94         92         82         82         81         77         76         75         73         69         68         67         67 \n"
     ]
    }
   ],
   "source": [
    "import csv\n",
    "with open(\"../data/GOT/02_BRAN.txt\") as bran:\n",
    "    bran_String = bran.read()\n",
    "\n",
    "bran_tokens = nltk.word_tokenize(bran_String)\n",
    "cleaned_tokens = [word for word in bran_tokens if word[0].isalpha()]\n",
    "folded_tokens = [word.lower() for word in cleaned_tokens]\n",
    "stopped_words_bran = [word for word in folded_tokens if word not in my_stopwords]\n",
    "stopped_bran = nltk.FreqDist(stopped_words_bran)\n",
    "stopped_bran.tabulate(20)\n",
    "\n",
    "#stopped_Jon.plot(25)"
   ]
  },
  {
   "cell_type": "markdown",
   "metadata": {},
   "source": [
    "### 03. BRIENNE"
   ]
  },
  {
   "cell_type": "code",
   "execution_count": 95,
   "metadata": {
    "collapsed": false
   },
   "outputs": [
    {
     "name": "stdout",
     "output_type": "stream",
     "text": [
      " brienne  podrick     hyle meribald     find   septon     dick      dog     girl  beneath   nimble      red     half   castle     dead    place     road     keep    heard      inn \n",
      "     340       87       83       65       62       61       60       54       53       52       47       44       44       43       43       42       42       42       42       41 \n"
     ]
    }
   ],
   "source": [
    "import csv\n",
    "with open(\"../data/GOT/03_BRIENNE.txt\") as Brienne:\n",
    "    Brienne_String = Brienne.read()\n",
    "\n",
    "Brienne_tokens = nltk.word_tokenize(Brienne_String)\n",
    "cleaned_tokens = [word for word in Brienne_tokens if word[0].isalpha()]\n",
    "folded_tokens = [word.lower() for word in cleaned_tokens]\n",
    "stopped_words_Brienne = [word for word in folded_tokens if word not in my_stopwords]\n",
    "stopped_Brienne = nltk.FreqDist(stopped_words_Brienne)\n",
    "stopped_Brienne.tabulate(20)\n",
    "\n",
    "#stopped_Jon.plot(25)"
   ]
  },
  {
   "cell_type": "markdown",
   "metadata": {},
   "source": [
    "### 04. CATELYN"
   ]
  },
  {
   "cell_type": "code",
   "execution_count": 101,
   "metadata": {
    "collapsed": false
   },
   "outputs": [
    {
     "name": "stdout",
     "output_type": "stream",
     "text": [
      "   catelyn       robb        son     edmure        ned  lannister   riverrun       frey      renly       gods     walder      north      stark     battle       grey     castle        red lannisters       last winterfell \n",
      "       858        426        223        172        147        142        135        129        127        121        121        108        108        106        105        101         99         97         97         96 \n"
     ]
    }
   ],
   "source": [
    "import csv\n",
    "with open(\"../data/GOT/04_CATELYN.txt\") as Cat:\n",
    "    Cat_String = Cat.read()\n",
    "\n",
    "Cat_tokens = nltk.word_tokenize(Cat_String)\n",
    "cleaned_tokens = [word for word in Cat_tokens if word[0].isalpha()]\n",
    "folded_tokens = [word.lower() for word in cleaned_tokens]\n",
    "stopped_words_Cat = [word for word in folded_tokens if word not in my_stopwords]\n",
    "stopped_Cat = nltk.FreqDist(stopped_words_Cat)\n",
    "stopped_Cat.tabulate(20)\n"
   ]
  },
  {
   "cell_type": "markdown",
   "metadata": {},
   "source": [
    "### 05. CERSEI"
   ]
  },
  {
   "cell_type": "code",
   "execution_count": 104,
   "metadata": {
    "collapsed": false
   },
   "outputs": [
    {
     "name": "stdout",
     "output_type": "stream",
     "text": [
      "      cersei        grace         high     margaery       tommen        jaime       qyburn       septon         gold          son        shall       tyrell        loras        septa merryweather      pycelle        seven        white       king’s        osney \n",
      "         433          216          164          132          112          101           86           83           80           79           77           77           77           77           69           67           65           63           61           61 \n"
     ]
    }
   ],
   "source": [
    "import csv\n",
    "with open(\"../data/GOT/05_CERSEI.txt\") as Cer:\n",
    "    Cer_String = Cer.read()\n",
    "\n",
    "Cer_tokens = nltk.word_tokenize(Cer_String)\n",
    "cleaned_tokens = [word for word in Cer_tokens if word[0].isalpha()]\n",
    "folded_tokens = [word.lower() for word in cleaned_tokens]\n",
    "stopped_words_Cer = [word for word in folded_tokens if word not in my_stopwords]\n",
    "stopped_Cer = nltk.FreqDist(stopped_words_Cer)\n",
    "stopped_Cer.tabulate(20)"
   ]
  },
  {
   "cell_type": "markdown",
   "metadata": {},
   "source": [
    "Osney Kettleblack is the youngest of the Kettleblack brothers. He is the son of Oswell Kettleblack \n",
    "and he has two brothers, Ser Osmund and Osfryd Kettleblack.\n",
    "Ser Osney and his brothers are ordered by Queen Cersei to dispose of the corpse of Shae."
   ]
  },
  {
   "cell_type": "markdown",
   "metadata": {},
   "source": [
    "### 06. DANY"
   ]
  },
  {
   "cell_type": "code",
   "execution_count": 105,
   "metadata": {
    "collapsed": false
   },
   "outputs": [
    {
     "name": "stdout",
     "output_type": "stream",
     "text": [
      "    dany    jorah    blood     khal    drogo dothraki   dragon    grace  dragons      red     city  hizdahr daenerys     gold     hair  viserys    grass   daario  meereen    shall \n",
      "     900      224      223      218      194      191      163      153      139      138      136      132      127      124      123      119      111      108      107      105 \n"
     ]
    }
   ],
   "source": [
    "import csv\n",
    "with open(\"../data/GOT/06_DANY.txt\") as Dany:\n",
    "    Dany_String = Dany.read()\n",
    "\n",
    "Dany_tokens = nltk.word_tokenize(Dany_String)\n",
    "cleaned_tokens = [word for word in Dany_tokens if word[0].isalpha()]\n",
    "folded_tokens = [word.lower() for word in cleaned_tokens]\n",
    "stopped_words_Dany = [word for word in folded_tokens if word not in my_stopwords]\n",
    "stopped_Dany = nltk.FreqDist(stopped_words_Dany)\n",
    "stopped_Dany.tabulate(20)"
   ]
  },
  {
   "cell_type": "markdown",
   "metadata": {},
   "source": [
    "### 07. DAVOS"
   ]
  },
  {
   "cell_type": "code",
   "execution_count": 108,
   "metadata": {
    "collapsed": false
   },
   "outputs": [
    {
     "name": "stdout",
     "output_type": "stream",
     "text": [
      "   davos  stannis    white   harbor    wyman      red   castle    walls      end      sea    ships    river     oars      son  beneath     dead    heard    north manderly     gods \n",
      "     299      106       86       55       53       48       44       40       40       39       38       37       36       35       35       34       33       33       33       31 \n"
     ]
    }
   ],
   "source": [
    "import csv\n",
    "with open(\"../data/GOT/07_DAVOS.txt\") as Dav:\n",
    "    Dav_String = Dav.read()\n",
    "\n",
    "Dav_tokens = nltk.word_tokenize(Dav_String)\n",
    "cleaned_tokens = [word for word in Dav_tokens if word[0].isalpha()]\n",
    "folded_tokens = [word.lower() for word in cleaned_tokens]\n",
    "stopped_words_Dav = [word for word in folded_tokens if word not in my_stopwords]\n",
    "stopped_Dav = nltk.FreqDist(stopped_words_Dav)\n",
    "stopped_Dav.tabulate(20)"
   ]
  },
  {
   "cell_type": "markdown",
   "metadata": {},
   "source": [
    "### 08. EPILOGUE"
   ]
  },
  {
   "cell_type": "code",
   "execution_count": 109,
   "metadata": {
    "collapsed": false
   },
   "outputs": [
    {
     "name": "stdout",
     "output_type": "stream",
     "text": [
      "     kevan     tyrell     cersei       mace  lannister    pycelle connington     king’s    randyll       girl      grand      tarly        end       seen     tommen   daughter     throne     robert       high      harys \n",
      "        48         33         22         18         16         12         12         11         11         11         10         10         10          9          9          9          8          8          8          8 \n"
     ]
    }
   ],
   "source": [
    "import csv\n",
    "with open(\"../data/GOT/08_EPILOGUE.txt\") as Epi:\n",
    "    Epi_String = Epi.read()\n",
    "\n",
    "Epi_tokens = nltk.word_tokenize(Epi_String)\n",
    "cleaned_tokens = [word for word in Epi_tokens if word[0].isalpha()]\n",
    "folded_tokens = [word.lower() for word in cleaned_tokens]\n",
    "stopped_words_Epi = [word for word in folded_tokens if word not in my_stopwords]\n",
    "stopped_Epi = nltk.FreqDist(stopped_words_Epi)\n",
    "stopped_Epi.tabulate(20)"
   ]
  },
  {
   "cell_type": "markdown",
   "metadata": {},
   "source": [
    "### 09. JAIME"
   ]
  },
  {
   "cell_type": "code",
   "execution_count": 110,
   "metadata": {
    "collapsed": false
   },
   "outputs": [
    {
     "name": "stdout",
     "output_type": "stream",
     "text": [
      "    jaime   brienne     white    cersei    king’s     wench       red lannister    castle       put      dead     heard      done      frey   jaime’s     blood      last      half       son     hands \n",
      "      933       183       135       129       122       116       100        89        89        82        80        78        78        77        76        76        76        76        76        75 \n"
     ]
    }
   ],
   "source": [
    "import csv\n",
    "with open(\"../data/GOT/09_JAIME.txt\") as Jaime:\n",
    "    Jaime_String = Jaime.read()\n",
    "\n",
    "Jaime_tokens = nltk.word_tokenize(Jaime_String)\n",
    "cleaned_tokens = [word for word in Jaime_tokens if word[0].isalpha()]\n",
    "folded_tokens = [word.lower() for word in cleaned_tokens]\n",
    "stopped_words_Jaime = [word for word in folded_tokens if word not in my_stopwords]\n",
    "stopped_Jaime = nltk.FreqDist(stopped_words_Jaime)\n",
    "stopped_Jaime.tabulate(20)"
   ]
  },
  {
   "cell_type": "markdown",
   "metadata": {},
   "source": [
    "### JON SNOW"
   ]
  },
  {
   "cell_type": "code",
   "execution_count": 70,
   "metadata": {
    "collapsed": false,
    "scrolled": true
   },
   "outputs": [
    {
     "name": "stdout",
     "output_type": "stream",
     "text": [
      "      jon      snow      wall     watch       sam      dead     ghost     night      cold   stannis      good       red   mormont      fire wildlings    turned  brothers     white     raven     heard \n",
      "     1574       357       324       182       180       177       172       156       154       153       151       149       142       141       132       124       123       123       121       117 \n"
     ]
    }
   ],
   "source": [
    "import csv\n",
    "with open(\"../data/GOT/10_JON.txt\") as jon:\n",
    "    JonSnow_String = jon.read()\n",
    "\n",
    "Jon_tokens = nltk.word_tokenize(JonSnow_String)\n",
    "cleaned_tokens = [word for word in Jon_tokens if word[0].isalpha()]\n",
    "folded_tokens = [word.lower() for word in cleaned_tokens]\n",
    "stopped_words_Jon = [word for word in folded_tokens if word not in my_stopwords]\n",
    "stopped_Jon = nltk.FreqDist(stopped_words_Jon)\n",
    "stopped_Jon.tabulate(20)\n",
    "\n",
    "#stopped_Jon.plot(25)\n",
    "\n"
   ]
  },
  {
   "cell_type": "markdown",
   "metadata": {},
   "source": [
    "### 11. NED"
   ]
  },
  {
   "cell_type": "code",
   "execution_count": 111,
   "metadata": {
    "collapsed": false
   },
   "outputs": [
    {
     "name": "stdout",
     "output_type": "stream",
     "text": [
      "         ned       robert littlefinger        stark       king’s       eddard        varys    lannister        renly       cersei      pycelle          jon         keep         last        voice      stannis         gods         girl        arryn       throne \n",
      "         563          197          110          100           96           85           77           70           64           62           59           53           52           52           51           49           48           48           48           47 \n"
     ]
    }
   ],
   "source": [
    "import csv\n",
    "with open(\"../data/GOT/11_NED.txt\") as Ned:\n",
    "    Ned_String = Ned.read()\n",
    "\n",
    "Ned_tokens = nltk.word_tokenize(Ned_String)\n",
    "cleaned_tokens = [word for word in Ned_tokens if word[0].isalpha()]\n",
    "folded_tokens = [word.lower() for word in cleaned_tokens]\n",
    "stopped_words_Ned = [word for word in folded_tokens if word not in my_stopwords]\n",
    "stopped_Ned = nltk.FreqDist(stopped_words_Ned)\n",
    "stopped_Ned.tabulate(20)"
   ]
  },
  {
   "cell_type": "markdown",
   "metadata": {},
   "source": [
    "### 12. PROLOGUE"
   ]
  },
  {
   "cell_type": "code",
   "execution_count": 112,
   "metadata": {
    "collapsed": false
   },
   "outputs": [
    {
     "name": "stdout",
     "output_type": "stream",
     "text": [
      "   catelyn       robb        son     edmure        ned  lannister   riverrun       frey      renly       gods     walder      north      stark     battle       grey     castle        red lannisters       last winterfell \n",
      "       858        426        223        172        147        142        135        129        127        121        121        108        108        106        105        101         99         97         97         96 \n"
     ]
    }
   ],
   "source": [
    "import csv\n",
    "with open(\"../data/GOT/12_PROLOGUE.txt\") as Pro:\n",
    "    Pro_String = Pro.read()\n",
    "\n",
    "Pro_tokens = nltk.word_tokenize(Pro_String)\n",
    "cleaned_tokens = [word for word in Cat_tokens if word[0].isalpha()]\n",
    "folded_tokens = [word.lower() for word in cleaned_tokens]\n",
    "stopped_words_Pro = [word for word in folded_tokens if word not in my_stopwords]\n",
    "stopped_Pro = nltk.FreqDist(stopped_words_Pro)\n",
    "stopped_Pro.tabulate(20)"
   ]
  },
  {
   "cell_type": "markdown",
   "metadata": {},
   "source": [
    "### 13. REEK"
   ]
  },
  {
   "cell_type": "code",
   "execution_count": 114,
   "metadata": {
    "collapsed": false
   },
   "outputs": [
    {
     "name": "stdout",
     "output_type": "stream",
     "text": [
      "     reek    ramsay    bolton     blood  ramsay’s      name     roose dreadfort   fingers      hall   beneath      dead     horse      grey     girls      i’ll     tower       son      sons     bones \n",
      "      121        65        30        21        20        20        20        17        17        17        16        16        15        14        13        13        13        13        13        13 \n"
     ]
    }
   ],
   "source": [
    "import csv\n",
    "with open(\"../data/GOT/13_REEK.txt\") as Reek:\n",
    "    Reek_String = Reek.read()\n",
    "\n",
    "Reek_tokens = nltk.word_tokenize(Reek_String)\n",
    "cleaned_tokens = [word for word in Reek_tokens if word[0].isalpha()]\n",
    "folded_tokens = [word.lower() for word in cleaned_tokens]\n",
    "stopped_words_Reek = [word for word in folded_tokens if word not in my_stopwords]\n",
    "stopped_Reek = nltk.FreqDist(stopped_words_Reek)\n",
    "stopped_Reek.tabulate(20)"
   ]
  },
  {
   "cell_type": "markdown",
   "metadata": {},
   "source": [
    "### 14. SAMWELL"
   ]
  },
  {
   "cell_type": "code",
   "execution_count": 115,
   "metadata": {
    "collapsed": false
   },
   "outputs": [
    {
     "name": "stdout",
     "output_type": "stream",
     "text": [
      "      sam     gilly     aemon       jon      wall     watch      snow       red      fire      cold  brothers    dareon      keep   beneath craster’s      babe commander   stannis     don’t      he’s \n",
      "      569       147       110        89        73        65        60        57        55        53        53        51        50        49        49        49        49        48        47        47 \n"
     ]
    }
   ],
   "source": [
    "import csv\n",
    "with open(\"../data/GOT/14_SAMWELL.txt\") as Sam:\n",
    "    Sam_String = Sam.read()\n",
    "\n",
    "Sam_tokens = nltk.word_tokenize(Sam_String)\n",
    "cleaned_tokens = [word for word in Sam_tokens if word[0].isalpha()]\n",
    "folded_tokens = [word.lower() for word in cleaned_tokens]\n",
    "stopped_words_Sam = [word for word in folded_tokens if word not in my_stopwords]\n",
    "stopped_Sam = nltk.FreqDist(stopped_words_Sam)\n",
    "stopped_Sam.tabulate(20)"
   ]
  },
  {
   "cell_type": "markdown",
   "metadata": {},
   "source": [
    "### 15. SANSA"
   ]
  },
  {
   "cell_type": "code",
   "execution_count": 116,
   "metadata": {
    "collapsed": false
   },
   "outputs": [
    {
     "name": "stdout",
     "output_type": "stream",
     "text": [
      "    sansa   joffrey      arya    prince       red lannister     grace     heard     white      ever     petyr     septa     blood     hound   knights     voice      hair      gold    dontos      girl \n",
      "      502       198       130        65        65        63        62        60        60        58        56        55        55        55        52        52        50        49        49        48 \n"
     ]
    }
   ],
   "source": [
    "import csv\n",
    "with open(\"../data/GOT/15_SANSA.txt\") as Sansa:\n",
    "    Sansa_String = Sansa.read()\n",
    "\n",
    "Sansa_tokens = nltk.word_tokenize(Sansa_String)\n",
    "cleaned_tokens = [word for word in Sansa_tokens if word[0].isalpha()]\n",
    "folded_tokens = [word.lower() for word in cleaned_tokens]\n",
    "stopped_words_Sansa = [word for word in folded_tokens if word not in my_stopwords]\n",
    "stopped_Sansa = nltk.FreqDist(stopped_words_Sansa)\n",
    "stopped_Sansa.tabulate(20)"
   ]
  },
  {
   "cell_type": "markdown",
   "metadata": {},
   "source": [
    "### THEON"
   ]
  },
  {
   "cell_type": "code",
   "execution_count": 117,
   "metadata": {
    "collapsed": false
   },
   "outputs": [
    {
     "name": "stdout",
     "output_type": "stream",
     "text": [
      "     theon       reek     ramsay       dead winterfell      blood     castle       hall       asha     bolton       half       he‟d      white       keep       name      walls       feet      horse    fingers       give \n",
      "       316        153         86         63         55         55         48         43         41         41         40         39         38         36         36         36         35         35         35         34 \n"
     ]
    }
   ],
   "source": [
    "import csv\n",
    "with open(\"../data/GOT/26_THEON.txt\") as Theon:\n",
    "    Theon_String = Theon.read()\n",
    "\n",
    "Theon_tokens = nltk.word_tokenize(Theon_String)\n",
    "cleaned_tokens = [word for word in Theon_tokens if word[0].isalpha()]\n",
    "folded_tokens = [word.lower() for word in cleaned_tokens]\n",
    "stopped_words_Theon = [word for word in folded_tokens if word not in my_stopwords]\n",
    "stopped_Theon= nltk.FreqDist(stopped_words_Theon)\n",
    "stopped_Theon.tabulate(20)"
   ]
  },
  {
   "cell_type": "markdown",
   "metadata": {},
   "source": [
    "### TYRION"
   ]
  },
  {
   "cell_type": "code",
   "execution_count": 119,
   "metadata": {
    "collapsed": false
   },
   "outputs": [
    {
     "name": "stdout",
     "output_type": "stream",
     "text": [
      "   tyrion     dwarf lannister      wine    cersei      gold       red     bronn     blood      half     stark     varys      dead     stone      city     heard      keep      girl     hands      find \n",
      "     1660       222       180       177       169       167       164       163       161       158       156       155       150       141       135       132       128       128       126       125 \n"
     ]
    }
   ],
   "source": [
    "import csv\n",
    "with open(\"../data/GOT/27_TYRION.txt\") as Tyrion:\n",
    "    Tyrion_String = Tyrion.read()\n",
    "\n",
    "Tyrion_tokens = nltk.word_tokenize(Tyrion_String)\n",
    "cleaned_tokens = [word for word in Tyrion_tokens if word[0].isalpha()]\n",
    "folded_tokens = [word.lower() for word in cleaned_tokens]\n",
    "stopped_words_Tyrion = [word for word in folded_tokens if word not in my_stopwords]\n",
    "stopped_Tyrion = nltk.FreqDist(stopped_words_Tyrion)\n",
    "stopped_Tyrion.tabulate(20)"
   ]
  },
  {
   "cell_type": "markdown",
   "metadata": {},
   "source": [
    "### ALL 5 VOLUMES"
   ]
  },
  {
   "cell_type": "code",
   "execution_count": 123,
   "metadata": {
    "collapsed": false
   },
   "outputs": [
    {
     "data": {
      "text/plain": [
       "['version', 'history', 'reedited', 'maelstrom385', 'scanned']"
      ]
     },
     "execution_count": 123,
     "metadata": {},
     "output_type": "execute_result"
    }
   ],
   "source": [
    "\n",
    "with open(\"../data/Got_AllBooks.txt\") as All:\n",
    "    All_String = All.read()\n",
    "\n",
    "All_tokens = nltk.word_tokenize(All_String)\n",
    "cleaned_tokens = [word for word in All_tokens if word[0].isalpha()]\n",
    "folded_tokens = [word.lower() for word in cleaned_tokens]\n",
    "All = [word for word in folded_tokens if word not in my_stopwords]\n",
    "\n",
    "All_Dist = nltk.FreqDist(All)\n",
    "All_Dist.tabulate(30)\n",
    "#All.tabulate(40)"
   ]
  },
  {
   "cell_type": "markdown",
   "metadata": {},
   "source": [
    "### CLASSIFICATION"
   ]
  },
  {
   "cell_type": "code",
   "execution_count": 9,
   "metadata": {
    "collapsed": false,
    "scrolled": false
   },
   "outputs": [],
   "source": [
    "from collections import Counter\n",
    "\n",
    "\n",
    "tf = Counter()\n",
    "for word in stopped_words:\n",
    "    tf[word] +=1\n",
    "#print(tf.items())"
   ]
  },
  {
   "cell_type": "code",
   "execution_count": null,
   "metadata": {
    "collapsed": true
   },
   "outputs": [],
   "source": [
    "import string \n",
    "    \n",
    "def build_lexicon(corpus):\n",
    "    lexicon = set()\n",
    "    for doc in corpus:\n",
    "        lexicon.update([word for word in Book1_words])\n",
    "    return lexicon\n",
    "\n",
    "def tf(term, document):\n",
    "  return freq(term, document)\n",
    "\n",
    "def freq(term, document):\n",
    "  return document.split().count(term)\n",
    "\n",
    "vocabulary = build_lexicon(Book1_words)\n",
    "\n",
    "doc_term_matrix = []\n",
    "print('Our vocabulary vector is [' + ', '.join(list(vocabulary)) + ']')\n",
    "for doc in Book1_words:\n",
    "    print('The doc is \"' + doc + '\"')\n",
    "    tf_vector = [tf(word, doc) for word in vocabulary]\n",
    "    tf_vector_string = ', '.join(format(freq, 'd') for freq in tf_vector)\n",
    "    print('The tf vector for Document %d is [%s]' % ((Book1_words.index(doc)+1), tf_vector_string))\n",
    "    doc_term_matrix.append(tf_vector)\n"
   ]
  },
  {
   "cell_type": "code",
   "execution_count": null,
   "metadata": {
    "collapsed": true
   },
   "outputs": [],
   "source": [
    "import math\n",
    "import numpy as np\n",
    "def l2_normalizer(vec):\n",
    "    denom = np.sum([el**2 for el in vec])\n",
    "    return [(el / math.sqrt(denom)) for el in vec]\n",
    "\n",
    "doc_term_matrix_l2 = []\n",
    "for vec in doc_term_matrix:\n",
    "    doc_term_matrix_l2.append(l2_normalizer(vec))\n",
    "\n",
    "print('A regular old document term matrix: ' )\n",
    "print(np.matrix(doc_term_matrix))\n",
    "print('\\nA document term matrix with row-wise L2 norms of 1:')\n",
    "print(np.matrix(doc_term_matrix_l2))"
   ]
  }
 ],
 "metadata": {
  "kernelspec": {
   "display_name": "Python 3",
   "language": "python",
   "name": "python3"
  },
  "language_info": {
   "codemirror_mode": {
    "name": "ipython",
    "version": 3
   },
   "file_extension": ".py",
   "mimetype": "text/x-python",
   "name": "python",
   "nbconvert_exporter": "python",
   "pygments_lexer": "ipython3",
   "version": "3.6.0"
  }
 },
 "nbformat": 4,
 "nbformat_minor": 2
}
